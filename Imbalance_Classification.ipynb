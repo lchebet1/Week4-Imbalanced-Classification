{
  "nbformat": 4,
  "nbformat_minor": 0,
  "metadata": {
    "colab": {
      "provenance": []
    },
    "kernelspec": {
      "name": "python3",
      "display_name": "Python 3"
    },
    "language_info": {
      "name": "python"
    }
  },
  "cells": [
    {
      "cell_type": "code",
      "execution_count": null,
      "metadata": {
        "id": "f26hDYj0QHoL"
      },
      "outputs": [],
      "source": []
    },
    {
      "cell_type": "markdown",
      "source": [
        "##Specifying the Data Analysis Question\n",
        "* Beta Bank customers are leaving: little by little, chipping away every month. The bankers figured out it’s cheaper to save the existing customers rather than to attract new ones.We need to predict whether a customer will leave the bank soon"
      ],
      "metadata": {
        "id": "-jz_gOIgIf6n"
      }
    },
    {
      "cell_type": "markdown",
      "source": [
        "##Metric of success\n",
        "Building a model that can predict with high accuracy whether a customer is about to leave"
      ],
      "metadata": {
        "id": "rDHx1VkMIvEn"
      }
    },
    {
      "cell_type": "markdown",
      "source": [
        "##Understanding the context\n",
        "Beta Bank customers are leaving: little by little, chipping away every month. The bankers figured out it’s cheaper to save the existing customers rather than to attract new ones.We need to predict whether a customer will leave the bank soon. You have the data on clients’ past behavior and termination of contracts with the bank."
      ],
      "metadata": {
        "id": "IEptfnXQT9rF"
      }
    },
    {
      "cell_type": "markdown",
      "source": [
        "## Recording the Experimental Design\n",
        "1. Download and prepare the data. Explain the procedure.\n",
        "2. Examine the balance of classes. Train the model without taking into account the\n",
        "imbalance. Briefly describe your findings.\n",
        "3. Improve the quality of the model. Make sure you use at least two approaches to\n",
        "fixing class imbalance. Use the training set to pick the best parameters. Train\n",
        "different models on training and validation sets. Find the best one. Briefly\n",
        "describe your findings.\n",
        "4. Perform the final testing"
      ],
      "metadata": {
        "id": "NQuP35ZTUMI7"
      }
    },
    {
      "cell_type": "markdown",
      "source": [
        "##Data Relevance\n",
        "* the source data has good information to predict if the customer will leave"
      ],
      "metadata": {
        "id": "tNh1pPdxUQOm"
      }
    },
    {
      "cell_type": "markdown",
      "source": [
        "#Reading the data"
      ],
      "metadata": {
        "id": "m1FsTxolU-p7"
      }
    },
    {
      "cell_type": "code",
      "source": [
        "import pandas as pd\n",
        "import numpy as np\n",
        "from sklearn.tree import DecisionTreeClassifier, DecisionTreeRegressor\n",
        "from sklearn.ensemble import RandomForestClassifier, RandomForestRegressor\n",
        "from sklearn.linear_model import LogisticRegression, LinearRegression\n",
        "from sklearn.metrics import accuracy_score, f1_score, roc_auc_score, mean_squared_error\n",
        "from sklearn.preprocessing import StandardScaler\n",
        "from sklearn.model_selection import train_test_split\n",
        "\n",
        "#read the data\n",
        "churn_data = pd.read_csv('https://bit.ly/2XZK7Bo')\n",
        "\n",
        "#preview of the data\n",
        "print('\\nPreview top 5:\\n',churn_data.head())\n",
        "print('\\nPreview bottom 5:\\n',churn_data.tail())\n",
        "print('\\nPreview sample 5:\\n',churn_data.sample(5))\n",
        "print(f'\\n size of dataset:\\n', churn_data.shape)\n",
        "\n",
        "\n"
      ],
      "metadata": {
        "colab": {
          "base_uri": "https://localhost:8080/"
        },
        "id": "222Ukr3oU-TD",
        "outputId": "0dd0b16f-78f8-478c-9248-70ca2d4c1466"
      },
      "execution_count": 3,
      "outputs": [
        {
          "output_type": "stream",
          "name": "stdout",
          "text": [
            "\n",
            "Preview top 5:\n",
            "    RowNumber  CustomerId   Surname  CreditScore Geography  Gender  Age  \\\n",
            "0          1    15634602  Hargrave          619    France  Female   42   \n",
            "1          2    15647311      Hill          608     Spain  Female   41   \n",
            "2          3    15619304      Onio          502    France  Female   42   \n",
            "3          4    15701354      Boni          699    France  Female   39   \n",
            "4          5    15737888  Mitchell          850     Spain  Female   43   \n",
            "\n",
            "   Tenure    Balance  NumOfProducts  HasCrCard  IsActiveMember  \\\n",
            "0     2.0       0.00              1          1               1   \n",
            "1     1.0   83807.86              1          0               1   \n",
            "2     8.0  159660.80              3          1               0   \n",
            "3     1.0       0.00              2          0               0   \n",
            "4     2.0  125510.82              1          1               1   \n",
            "\n",
            "   EstimatedSalary  Exited  \n",
            "0        101348.88       1  \n",
            "1        112542.58       0  \n",
            "2        113931.57       1  \n",
            "3         93826.63       0  \n",
            "4         79084.10       0  \n",
            "\n",
            "Preview bottom 5:\n",
            "       RowNumber  CustomerId    Surname  CreditScore Geography  Gender  Age  \\\n",
            "9995       9996    15606229   Obijiaku          771    France    Male   39   \n",
            "9996       9997    15569892  Johnstone          516    France    Male   35   \n",
            "9997       9998    15584532        Liu          709    France  Female   36   \n",
            "9998       9999    15682355  Sabbatini          772   Germany    Male   42   \n",
            "9999      10000    15628319     Walker          792    France  Female   28   \n",
            "\n",
            "      Tenure    Balance  NumOfProducts  HasCrCard  IsActiveMember  \\\n",
            "9995     5.0       0.00              2          1               0   \n",
            "9996    10.0   57369.61              1          1               1   \n",
            "9997     7.0       0.00              1          0               1   \n",
            "9998     3.0   75075.31              2          1               0   \n",
            "9999     NaN  130142.79              1          1               0   \n",
            "\n",
            "      EstimatedSalary  Exited  \n",
            "9995         96270.64       0  \n",
            "9996        101699.77       0  \n",
            "9997         42085.58       1  \n",
            "9998         92888.52       1  \n",
            "9999         38190.78       0  \n",
            "\n",
            "Preview sample 5:\n",
            "       RowNumber  CustomerId       Surname  CreditScore Geography  Gender  Age  \\\n",
            "2923       2924    15631159            H?          705   Germany    Male   41   \n",
            "7729       7730    15681007           Yen          850    France  Female   35   \n",
            "7504       7505    15587038     Ogochukwu          654     Spain  Female   32   \n",
            "7140       7141    15716082  Chukwubuikem          703     Spain    Male   39   \n",
            "452         453    15710825         Ch'en          592     Spain    Male   31   \n",
            "\n",
            "      Tenure    Balance  NumOfProducts  HasCrCard  IsActiveMember  \\\n",
            "2923     4.0   72252.64              2          1               1   \n",
            "7729     2.0  128548.49              4          1               0   \n",
            "7504     2.0       0.00              1          1               1   \n",
            "7140     6.0  152685.40              1          0               0   \n",
            "452      7.0  110071.10              1          0               0   \n",
            "\n",
            "      EstimatedSalary  Exited  \n",
            "2923        142514.66       0  \n",
            "7729         75478.95       1  \n",
            "7504         51972.92       1  \n",
            "7140        183656.12       0  \n",
            "452          43921.36       0  \n",
            "\n",
            " size of dataset:\n",
            " (10000, 14)\n"
          ]
        }
      ]
    },
    {
      "cell_type": "code",
      "source": [
        "#check for, data type for the variable values, missing data, duplicated observation\n",
        "print(f'\\n data type of dataset variables:\\n', churn_data.dtypes) #all variable are expected data type\n",
        "print(f'null values in the set\\n {churn_data.isnull().sum()}') #tenure has missing values, quite a number\n",
        "print(f'number of unique values for each variable in the set\\n {churn_data.nunique()}')\n"
      ],
      "metadata": {
        "id": "BmYAAmwsioot",
        "colab": {
          "base_uri": "https://localhost:8080/"
        },
        "outputId": "598cd427-2fa4-44ec-8bf1-c32c98597906"
      },
      "execution_count": 4,
      "outputs": [
        {
          "output_type": "stream",
          "name": "stdout",
          "text": [
            "\n",
            " data type of dataset variables:\n",
            " RowNumber            int64\n",
            "CustomerId           int64\n",
            "Surname             object\n",
            "CreditScore          int64\n",
            "Geography           object\n",
            "Gender              object\n",
            "Age                  int64\n",
            "Tenure             float64\n",
            "Balance            float64\n",
            "NumOfProducts        int64\n",
            "HasCrCard            int64\n",
            "IsActiveMember       int64\n",
            "EstimatedSalary    float64\n",
            "Exited               int64\n",
            "dtype: object\n",
            "null values in the set\n",
            " RowNumber            0\n",
            "CustomerId           0\n",
            "Surname              0\n",
            "CreditScore          0\n",
            "Geography            0\n",
            "Gender               0\n",
            "Age                  0\n",
            "Tenure             909\n",
            "Balance              0\n",
            "NumOfProducts        0\n",
            "HasCrCard            0\n",
            "IsActiveMember       0\n",
            "EstimatedSalary      0\n",
            "Exited               0\n",
            "dtype: int64\n",
            "number of unique values for each variable in the set\n",
            " RowNumber          10000\n",
            "CustomerId         10000\n",
            "Surname             2932\n",
            "CreditScore          460\n",
            "Geography              3\n",
            "Gender                 2\n",
            "Age                   70\n",
            "Tenure                11\n",
            "Balance             6382\n",
            "NumOfProducts          4\n",
            "HasCrCard              2\n",
            "IsActiveMember         2\n",
            "EstimatedSalary     9999\n",
            "Exited                 2\n",
            "dtype: int64\n"
          ]
        }
      ]
    },
    {
      "cell_type": "markdown",
      "source": [
        "##Data preparation\n",
        "* standardise the columns name\n",
        "* deal with the missing value - replace with mean of the variable"
      ],
      "metadata": {
        "id": "bKMX9qHOR-Hu"
      }
    },
    {
      "cell_type": "code",
      "source": [
        "#convet columns name to lower case\n",
        "churn_data.columns = churn_data.columns.str.lower().str.strip()\n",
        "churn_data['tenure'].unique()\n",
        "\n"
      ],
      "metadata": {
        "colab": {
          "base_uri": "https://localhost:8080/"
        },
        "id": "LQOOuu_VSI1K",
        "outputId": "3d82359d-a4d4-49fa-dbd5-a540af702794"
      },
      "execution_count": 5,
      "outputs": [
        {
          "output_type": "execute_result",
          "data": {
            "text/plain": [
              "array([ 2.,  1.,  8.,  7.,  4.,  6.,  3., 10.,  5.,  9.,  0., nan])"
            ]
          },
          "metadata": {},
          "execution_count": 5
        }
      ]
    },
    {
      "cell_type": "code",
      "source": [
        "#replacing the missing value with mean of the tenure, close to 10% with missing value\n",
        "churn_data.loc[churn_data['tenure'].isnull(), 'tenure'] = float(churn_data['tenure'].mean())"
      ],
      "metadata": {
        "id": "oBUPYuR7VKPa"
      },
      "execution_count": 7,
      "outputs": []
    },
    {
      "cell_type": "code",
      "source": [
        "#drop columns unnecessary like rownumber, customerid and surname\n",
        "churn_data.drop(columns=['rownumber', 'customerid', 'surname'], inplace=True)"
      ],
      "metadata": {
        "id": "ZIOC8LpkY48M"
      },
      "execution_count": 8,
      "outputs": []
    },
    {
      "cell_type": "code",
      "source": [],
      "metadata": {
        "id": "MDD9tb2zZtp2"
      },
      "execution_count": 6,
      "outputs": []
    },
    {
      "cell_type": "markdown",
      "source": [
        "## Solution Implementation\n",
        "### create and train, validate and test the model."
      ],
      "metadata": {
        "id": "d6f0OvwAYc0v"
      }
    },
    {
      "cell_type": "code",
      "source": [
        "churn_data['geography'].unique()\n",
        "churn_data.head()"
      ],
      "metadata": {
        "colab": {
          "base_uri": "https://localhost:8080/",
          "height": 206
        },
        "id": "FM6qBNOIblgX",
        "outputId": "9b944c72-5abf-4b60-eb22-2053dc9c7830"
      },
      "execution_count": 9,
      "outputs": [
        {
          "output_type": "execute_result",
          "data": {
            "text/plain": [
              "   creditscore geography  gender  age  tenure    balance  numofproducts  \\\n",
              "0          619    France  Female   42     2.0       0.00              1   \n",
              "1          608     Spain  Female   41     1.0   83807.86              1   \n",
              "2          502    France  Female   42     8.0  159660.80              3   \n",
              "3          699    France  Female   39     1.0       0.00              2   \n",
              "4          850     Spain  Female   43     2.0  125510.82              1   \n",
              "\n",
              "   hascrcard  isactivemember  estimatedsalary  exited  \n",
              "0          1               1        101348.88       1  \n",
              "1          0               1        112542.58       0  \n",
              "2          1               0        113931.57       1  \n",
              "3          0               0         93826.63       0  \n",
              "4          1               1         79084.10       0  "
            ],
            "text/html": [
              "\n",
              "  <div id=\"df-67dec925-28e4-443a-a0cf-113dba955f70\">\n",
              "    <div class=\"colab-df-container\">\n",
              "      <div>\n",
              "<style scoped>\n",
              "    .dataframe tbody tr th:only-of-type {\n",
              "        vertical-align: middle;\n",
              "    }\n",
              "\n",
              "    .dataframe tbody tr th {\n",
              "        vertical-align: top;\n",
              "    }\n",
              "\n",
              "    .dataframe thead th {\n",
              "        text-align: right;\n",
              "    }\n",
              "</style>\n",
              "<table border=\"1\" class=\"dataframe\">\n",
              "  <thead>\n",
              "    <tr style=\"text-align: right;\">\n",
              "      <th></th>\n",
              "      <th>creditscore</th>\n",
              "      <th>geography</th>\n",
              "      <th>gender</th>\n",
              "      <th>age</th>\n",
              "      <th>tenure</th>\n",
              "      <th>balance</th>\n",
              "      <th>numofproducts</th>\n",
              "      <th>hascrcard</th>\n",
              "      <th>isactivemember</th>\n",
              "      <th>estimatedsalary</th>\n",
              "      <th>exited</th>\n",
              "    </tr>\n",
              "  </thead>\n",
              "  <tbody>\n",
              "    <tr>\n",
              "      <th>0</th>\n",
              "      <td>619</td>\n",
              "      <td>France</td>\n",
              "      <td>Female</td>\n",
              "      <td>42</td>\n",
              "      <td>2.0</td>\n",
              "      <td>0.00</td>\n",
              "      <td>1</td>\n",
              "      <td>1</td>\n",
              "      <td>1</td>\n",
              "      <td>101348.88</td>\n",
              "      <td>1</td>\n",
              "    </tr>\n",
              "    <tr>\n",
              "      <th>1</th>\n",
              "      <td>608</td>\n",
              "      <td>Spain</td>\n",
              "      <td>Female</td>\n",
              "      <td>41</td>\n",
              "      <td>1.0</td>\n",
              "      <td>83807.86</td>\n",
              "      <td>1</td>\n",
              "      <td>0</td>\n",
              "      <td>1</td>\n",
              "      <td>112542.58</td>\n",
              "      <td>0</td>\n",
              "    </tr>\n",
              "    <tr>\n",
              "      <th>2</th>\n",
              "      <td>502</td>\n",
              "      <td>France</td>\n",
              "      <td>Female</td>\n",
              "      <td>42</td>\n",
              "      <td>8.0</td>\n",
              "      <td>159660.80</td>\n",
              "      <td>3</td>\n",
              "      <td>1</td>\n",
              "      <td>0</td>\n",
              "      <td>113931.57</td>\n",
              "      <td>1</td>\n",
              "    </tr>\n",
              "    <tr>\n",
              "      <th>3</th>\n",
              "      <td>699</td>\n",
              "      <td>France</td>\n",
              "      <td>Female</td>\n",
              "      <td>39</td>\n",
              "      <td>1.0</td>\n",
              "      <td>0.00</td>\n",
              "      <td>2</td>\n",
              "      <td>0</td>\n",
              "      <td>0</td>\n",
              "      <td>93826.63</td>\n",
              "      <td>0</td>\n",
              "    </tr>\n",
              "    <tr>\n",
              "      <th>4</th>\n",
              "      <td>850</td>\n",
              "      <td>Spain</td>\n",
              "      <td>Female</td>\n",
              "      <td>43</td>\n",
              "      <td>2.0</td>\n",
              "      <td>125510.82</td>\n",
              "      <td>1</td>\n",
              "      <td>1</td>\n",
              "      <td>1</td>\n",
              "      <td>79084.10</td>\n",
              "      <td>0</td>\n",
              "    </tr>\n",
              "  </tbody>\n",
              "</table>\n",
              "</div>\n",
              "      <button class=\"colab-df-convert\" onclick=\"convertToInteractive('df-67dec925-28e4-443a-a0cf-113dba955f70')\"\n",
              "              title=\"Convert this dataframe to an interactive table.\"\n",
              "              style=\"display:none;\">\n",
              "        \n",
              "  <svg xmlns=\"http://www.w3.org/2000/svg\" height=\"24px\"viewBox=\"0 0 24 24\"\n",
              "       width=\"24px\">\n",
              "    <path d=\"M0 0h24v24H0V0z\" fill=\"none\"/>\n",
              "    <path d=\"M18.56 5.44l.94 2.06.94-2.06 2.06-.94-2.06-.94-.94-2.06-.94 2.06-2.06.94zm-11 1L8.5 8.5l.94-2.06 2.06-.94-2.06-.94L8.5 2.5l-.94 2.06-2.06.94zm10 10l.94 2.06.94-2.06 2.06-.94-2.06-.94-.94-2.06-.94 2.06-2.06.94z\"/><path d=\"M17.41 7.96l-1.37-1.37c-.4-.4-.92-.59-1.43-.59-.52 0-1.04.2-1.43.59L10.3 9.45l-7.72 7.72c-.78.78-.78 2.05 0 2.83L4 21.41c.39.39.9.59 1.41.59.51 0 1.02-.2 1.41-.59l7.78-7.78 2.81-2.81c.8-.78.8-2.07 0-2.86zM5.41 20L4 18.59l7.72-7.72 1.47 1.35L5.41 20z\"/>\n",
              "  </svg>\n",
              "      </button>\n",
              "      \n",
              "  <style>\n",
              "    .colab-df-container {\n",
              "      display:flex;\n",
              "      flex-wrap:wrap;\n",
              "      gap: 12px;\n",
              "    }\n",
              "\n",
              "    .colab-df-convert {\n",
              "      background-color: #E8F0FE;\n",
              "      border: none;\n",
              "      border-radius: 50%;\n",
              "      cursor: pointer;\n",
              "      display: none;\n",
              "      fill: #1967D2;\n",
              "      height: 32px;\n",
              "      padding: 0 0 0 0;\n",
              "      width: 32px;\n",
              "    }\n",
              "\n",
              "    .colab-df-convert:hover {\n",
              "      background-color: #E2EBFA;\n",
              "      box-shadow: 0px 1px 2px rgba(60, 64, 67, 0.3), 0px 1px 3px 1px rgba(60, 64, 67, 0.15);\n",
              "      fill: #174EA6;\n",
              "    }\n",
              "\n",
              "    [theme=dark] .colab-df-convert {\n",
              "      background-color: #3B4455;\n",
              "      fill: #D2E3FC;\n",
              "    }\n",
              "\n",
              "    [theme=dark] .colab-df-convert:hover {\n",
              "      background-color: #434B5C;\n",
              "      box-shadow: 0px 1px 3px 1px rgba(0, 0, 0, 0.15);\n",
              "      filter: drop-shadow(0px 1px 2px rgba(0, 0, 0, 0.3));\n",
              "      fill: #FFFFFF;\n",
              "    }\n",
              "  </style>\n",
              "\n",
              "      <script>\n",
              "        const buttonEl =\n",
              "          document.querySelector('#df-67dec925-28e4-443a-a0cf-113dba955f70 button.colab-df-convert');\n",
              "        buttonEl.style.display =\n",
              "          google.colab.kernel.accessAllowed ? 'block' : 'none';\n",
              "\n",
              "        async function convertToInteractive(key) {\n",
              "          const element = document.querySelector('#df-67dec925-28e4-443a-a0cf-113dba955f70');\n",
              "          const dataTable =\n",
              "            await google.colab.kernel.invokeFunction('convertToInteractive',\n",
              "                                                     [key], {});\n",
              "          if (!dataTable) return;\n",
              "\n",
              "          const docLinkHtml = 'Like what you see? Visit the ' +\n",
              "            '<a target=\"_blank\" href=https://colab.research.google.com/notebooks/data_table.ipynb>data table notebook</a>'\n",
              "            + ' to learn more about interactive tables.';\n",
              "          element.innerHTML = '';\n",
              "          dataTable['output_type'] = 'display_data';\n",
              "          await google.colab.output.renderOutput(dataTable, element);\n",
              "          const docLink = document.createElement('div');\n",
              "          docLink.innerHTML = docLinkHtml;\n",
              "          element.appendChild(docLink);\n",
              "        }\n",
              "      </script>\n",
              "    </div>\n",
              "  </div>\n",
              "  "
            ]
          },
          "metadata": {},
          "execution_count": 9
        }
      ]
    },
    {
      "cell_type": "code",
      "source": [
        "#use one hot encoding to convert the nominal variable, geography and gender. probably customer from a particluar\n",
        "#country have an influnce on the churn rate\n",
        "churn_data = pd.get_dummies(churn_data, drop_first=True)\n",
        "churn_data.head()"
      ],
      "metadata": {
        "id": "4B_9Itx-Ytfj",
        "colab": {
          "base_uri": "https://localhost:8080/",
          "height": 270
        },
        "outputId": "c19160b2-2990-4fbd-8778-2823e18e08cd"
      },
      "execution_count": 11,
      "outputs": [
        {
          "output_type": "execute_result",
          "data": {
            "text/plain": [
              "   creditscore  age  tenure    balance  numofproducts  hascrcard  \\\n",
              "0          619   42     2.0       0.00              1          1   \n",
              "1          608   41     1.0   83807.86              1          0   \n",
              "2          502   42     8.0  159660.80              3          1   \n",
              "3          699   39     1.0       0.00              2          0   \n",
              "4          850   43     2.0  125510.82              1          1   \n",
              "\n",
              "   isactivemember  estimatedsalary  exited  geography_Germany  \\\n",
              "0               1        101348.88       1                  0   \n",
              "1               1        112542.58       0                  0   \n",
              "2               0        113931.57       1                  0   \n",
              "3               0         93826.63       0                  0   \n",
              "4               1         79084.10       0                  0   \n",
              "\n",
              "   geography_Spain  gender_Male  \n",
              "0                0            0  \n",
              "1                1            0  \n",
              "2                0            0  \n",
              "3                0            0  \n",
              "4                1            0  "
            ],
            "text/html": [
              "\n",
              "  <div id=\"df-86a2679a-5b68-4734-ae75-1a503ba2604b\">\n",
              "    <div class=\"colab-df-container\">\n",
              "      <div>\n",
              "<style scoped>\n",
              "    .dataframe tbody tr th:only-of-type {\n",
              "        vertical-align: middle;\n",
              "    }\n",
              "\n",
              "    .dataframe tbody tr th {\n",
              "        vertical-align: top;\n",
              "    }\n",
              "\n",
              "    .dataframe thead th {\n",
              "        text-align: right;\n",
              "    }\n",
              "</style>\n",
              "<table border=\"1\" class=\"dataframe\">\n",
              "  <thead>\n",
              "    <tr style=\"text-align: right;\">\n",
              "      <th></th>\n",
              "      <th>creditscore</th>\n",
              "      <th>age</th>\n",
              "      <th>tenure</th>\n",
              "      <th>balance</th>\n",
              "      <th>numofproducts</th>\n",
              "      <th>hascrcard</th>\n",
              "      <th>isactivemember</th>\n",
              "      <th>estimatedsalary</th>\n",
              "      <th>exited</th>\n",
              "      <th>geography_Germany</th>\n",
              "      <th>geography_Spain</th>\n",
              "      <th>gender_Male</th>\n",
              "    </tr>\n",
              "  </thead>\n",
              "  <tbody>\n",
              "    <tr>\n",
              "      <th>0</th>\n",
              "      <td>619</td>\n",
              "      <td>42</td>\n",
              "      <td>2.0</td>\n",
              "      <td>0.00</td>\n",
              "      <td>1</td>\n",
              "      <td>1</td>\n",
              "      <td>1</td>\n",
              "      <td>101348.88</td>\n",
              "      <td>1</td>\n",
              "      <td>0</td>\n",
              "      <td>0</td>\n",
              "      <td>0</td>\n",
              "    </tr>\n",
              "    <tr>\n",
              "      <th>1</th>\n",
              "      <td>608</td>\n",
              "      <td>41</td>\n",
              "      <td>1.0</td>\n",
              "      <td>83807.86</td>\n",
              "      <td>1</td>\n",
              "      <td>0</td>\n",
              "      <td>1</td>\n",
              "      <td>112542.58</td>\n",
              "      <td>0</td>\n",
              "      <td>0</td>\n",
              "      <td>1</td>\n",
              "      <td>0</td>\n",
              "    </tr>\n",
              "    <tr>\n",
              "      <th>2</th>\n",
              "      <td>502</td>\n",
              "      <td>42</td>\n",
              "      <td>8.0</td>\n",
              "      <td>159660.80</td>\n",
              "      <td>3</td>\n",
              "      <td>1</td>\n",
              "      <td>0</td>\n",
              "      <td>113931.57</td>\n",
              "      <td>1</td>\n",
              "      <td>0</td>\n",
              "      <td>0</td>\n",
              "      <td>0</td>\n",
              "    </tr>\n",
              "    <tr>\n",
              "      <th>3</th>\n",
              "      <td>699</td>\n",
              "      <td>39</td>\n",
              "      <td>1.0</td>\n",
              "      <td>0.00</td>\n",
              "      <td>2</td>\n",
              "      <td>0</td>\n",
              "      <td>0</td>\n",
              "      <td>93826.63</td>\n",
              "      <td>0</td>\n",
              "      <td>0</td>\n",
              "      <td>0</td>\n",
              "      <td>0</td>\n",
              "    </tr>\n",
              "    <tr>\n",
              "      <th>4</th>\n",
              "      <td>850</td>\n",
              "      <td>43</td>\n",
              "      <td>2.0</td>\n",
              "      <td>125510.82</td>\n",
              "      <td>1</td>\n",
              "      <td>1</td>\n",
              "      <td>1</td>\n",
              "      <td>79084.10</td>\n",
              "      <td>0</td>\n",
              "      <td>0</td>\n",
              "      <td>1</td>\n",
              "      <td>0</td>\n",
              "    </tr>\n",
              "  </tbody>\n",
              "</table>\n",
              "</div>\n",
              "      <button class=\"colab-df-convert\" onclick=\"convertToInteractive('df-86a2679a-5b68-4734-ae75-1a503ba2604b')\"\n",
              "              title=\"Convert this dataframe to an interactive table.\"\n",
              "              style=\"display:none;\">\n",
              "        \n",
              "  <svg xmlns=\"http://www.w3.org/2000/svg\" height=\"24px\"viewBox=\"0 0 24 24\"\n",
              "       width=\"24px\">\n",
              "    <path d=\"M0 0h24v24H0V0z\" fill=\"none\"/>\n",
              "    <path d=\"M18.56 5.44l.94 2.06.94-2.06 2.06-.94-2.06-.94-.94-2.06-.94 2.06-2.06.94zm-11 1L8.5 8.5l.94-2.06 2.06-.94-2.06-.94L8.5 2.5l-.94 2.06-2.06.94zm10 10l.94 2.06.94-2.06 2.06-.94-2.06-.94-.94-2.06-.94 2.06-2.06.94z\"/><path d=\"M17.41 7.96l-1.37-1.37c-.4-.4-.92-.59-1.43-.59-.52 0-1.04.2-1.43.59L10.3 9.45l-7.72 7.72c-.78.78-.78 2.05 0 2.83L4 21.41c.39.39.9.59 1.41.59.51 0 1.02-.2 1.41-.59l7.78-7.78 2.81-2.81c.8-.78.8-2.07 0-2.86zM5.41 20L4 18.59l7.72-7.72 1.47 1.35L5.41 20z\"/>\n",
              "  </svg>\n",
              "      </button>\n",
              "      \n",
              "  <style>\n",
              "    .colab-df-container {\n",
              "      display:flex;\n",
              "      flex-wrap:wrap;\n",
              "      gap: 12px;\n",
              "    }\n",
              "\n",
              "    .colab-df-convert {\n",
              "      background-color: #E8F0FE;\n",
              "      border: none;\n",
              "      border-radius: 50%;\n",
              "      cursor: pointer;\n",
              "      display: none;\n",
              "      fill: #1967D2;\n",
              "      height: 32px;\n",
              "      padding: 0 0 0 0;\n",
              "      width: 32px;\n",
              "    }\n",
              "\n",
              "    .colab-df-convert:hover {\n",
              "      background-color: #E2EBFA;\n",
              "      box-shadow: 0px 1px 2px rgba(60, 64, 67, 0.3), 0px 1px 3px 1px rgba(60, 64, 67, 0.15);\n",
              "      fill: #174EA6;\n",
              "    }\n",
              "\n",
              "    [theme=dark] .colab-df-convert {\n",
              "      background-color: #3B4455;\n",
              "      fill: #D2E3FC;\n",
              "    }\n",
              "\n",
              "    [theme=dark] .colab-df-convert:hover {\n",
              "      background-color: #434B5C;\n",
              "      box-shadow: 0px 1px 3px 1px rgba(0, 0, 0, 0.15);\n",
              "      filter: drop-shadow(0px 1px 2px rgba(0, 0, 0, 0.3));\n",
              "      fill: #FFFFFF;\n",
              "    }\n",
              "  </style>\n",
              "\n",
              "      <script>\n",
              "        const buttonEl =\n",
              "          document.querySelector('#df-86a2679a-5b68-4734-ae75-1a503ba2604b button.colab-df-convert');\n",
              "        buttonEl.style.display =\n",
              "          google.colab.kernel.accessAllowed ? 'block' : 'none';\n",
              "\n",
              "        async function convertToInteractive(key) {\n",
              "          const element = document.querySelector('#df-86a2679a-5b68-4734-ae75-1a503ba2604b');\n",
              "          const dataTable =\n",
              "            await google.colab.kernel.invokeFunction('convertToInteractive',\n",
              "                                                     [key], {});\n",
              "          if (!dataTable) return;\n",
              "\n",
              "          const docLinkHtml = 'Like what you see? Visit the ' +\n",
              "            '<a target=\"_blank\" href=https://colab.research.google.com/notebooks/data_table.ipynb>data table notebook</a>'\n",
              "            + ' to learn more about interactive tables.';\n",
              "          element.innerHTML = '';\n",
              "          dataTable['output_type'] = 'display_data';\n",
              "          await google.colab.output.renderOutput(dataTable, element);\n",
              "          const docLink = document.createElement('div');\n",
              "          docLink.innerHTML = docLinkHtml;\n",
              "          element.appendChild(docLink);\n",
              "        }\n",
              "      </script>\n",
              "    </div>\n",
              "  </div>\n",
              "  "
            ]
          },
          "metadata": {},
          "execution_count": 11
        }
      ]
    },
    {
      "cell_type": "code",
      "source": [
        "#create a train dataset\n",
        "train_df = churn_data.copy()\n",
        "\n",
        "#create a training and validation dataset from the dataset\n",
        "train_df, valid_df = train_test_split(train_df, test_size=0.25, random_state=1234)\n",
        "print(train_df.shape)\n",
        "print(valid_df.shape)"
      ],
      "metadata": {
        "colab": {
          "base_uri": "https://localhost:8080/"
        },
        "id": "bnmF-koYoMf5",
        "outputId": "2d8c60db-6db3-400a-f5f2-cc1727110221"
      },
      "execution_count": 12,
      "outputs": [
        {
          "output_type": "stream",
          "name": "stdout",
          "text": [
            "(7500, 12)\n",
            "(2500, 12)\n"
          ]
        }
      ]
    },
    {
      "cell_type": "code",
      "source": [],
      "metadata": {
        "id": "ePrXiaypqOWx"
      },
      "execution_count": null,
      "outputs": []
    },
    {
      "cell_type": "code",
      "source": [
        "#create features and target for both train and test\n",
        "features_train = train_df.drop(columns=['exited'])\n",
        "target_train = train_df['exited']\n",
        "features_valid = valid_df.drop(columns=['exited'])\n",
        "target_valid = valid_df['exited']\n",
        "\n",
        "#create a model for Decision Trees, Random Forest and Logistic Regression\n",
        "#model for Decision Trees, declare and find the ideal depth for the tree\n",
        "for d in range(1, 11, 1):\n",
        "  tree_model = DecisionTreeClassifier(random_state=1234, max_depth=d)\n",
        "  tree_model.fit(features_train, target_train)  #train the model\n",
        "  #check for accuracy\n",
        "  print(f'Decision tree has accuracy of: {tree_model.score(features_train, target_train)} for depth of: {d}')\n",
        "\n",
        "#declare model for random forest and find the best n_estimator value\n",
        "for n in range(1,20,1):\n",
        "  forest_model = RandomForestClassifier(class_weight='balanced' ,random_state=1234, n_estimators=n)\n",
        "  forest_model.fit(features_train, target_train)\n",
        "  print(f'Random forest has accuracy of: {forest_model.score(features_train, target_train)} for n={n}')\n",
        "\n",
        "#declare a model for logistic regression\n",
        "log_model = LogisticRegression(random_state=1234, solver='liblinear')\n",
        "log_model.fit(features_train, target_train)\n",
        "print(f'UNBalanced: logistic regression has accuracy of: {log_model.score(features_train, target_train)}')\n",
        "log_model = LogisticRegression(class_weight='balanced', random_state=1234, solver='liblinear')\n",
        "log_model.fit(features_train, target_train)\n",
        "print(f'Balanced: logistic regression has accuracy of: {log_model.score(features_train, target_train)}')\n",
        "\n",
        "#wieghting the classes and comparing the accuracy\n",
        "forest_model = RandomForestClassifier(random_state=1234, n_estimators=11)\n",
        "forest_model.fit(features_train, target_train)\n",
        "print(f'UNBalanced: Random forest has accuracy of: {forest_model.score(features_train, target_train)}')\n",
        "\n",
        "forest_model = RandomForestClassifier(class_weight='balanced' ,random_state=1234, n_estimators=11)\n",
        "forest_model.fit(features_train, target_train)\n",
        "print(f'Balanced: Random forest has accuracy of: {forest_model.score(features_train, target_train)}')\n",
        "\n",
        "\n"
      ],
      "metadata": {
        "id": "VCD2qH545SgE",
        "outputId": "85299c97-f943-4254-993f-348677813c18",
        "colab": {
          "base_uri": "https://localhost:8080/"
        }
      },
      "execution_count": 13,
      "outputs": [
        {
          "output_type": "stream",
          "name": "stdout",
          "text": [
            "Decision tree has accuracy of: 0.796 for depth of: 1\n",
            "Decision tree has accuracy of: 0.828 for depth of: 2\n",
            "Decision tree has accuracy of: 0.8418666666666667 for depth of: 3\n",
            "Decision tree has accuracy of: 0.8522666666666666 for depth of: 4\n",
            "Decision tree has accuracy of: 0.8584 for depth of: 5\n",
            "Decision tree has accuracy of: 0.8650666666666667 for depth of: 6\n",
            "Decision tree has accuracy of: 0.8733333333333333 for depth of: 7\n",
            "Decision tree has accuracy of: 0.8817333333333334 for depth of: 8\n",
            "Decision tree has accuracy of: 0.8921333333333333 for depth of: 9\n",
            "Decision tree has accuracy of: 0.9021333333333333 for depth of: 10\n",
            "Random forest has accuracy of: 0.9273333333333333 for n=1\n",
            "Random forest has accuracy of: 0.9329333333333333 for n=2\n",
            "Random forest has accuracy of: 0.9686666666666667 for n=3\n",
            "Random forest has accuracy of: 0.9604 for n=4\n",
            "Random forest has accuracy of: 0.9784 for n=5\n",
            "Random forest has accuracy of: 0.972 for n=6\n",
            "Random forest has accuracy of: 0.9861333333333333 for n=7\n",
            "Random forest has accuracy of: 0.9798666666666667 for n=8\n",
            "Random forest has accuracy of: 0.9889333333333333 for n=9\n",
            "Random forest has accuracy of: 0.9850666666666666 for n=10\n",
            "Random forest has accuracy of: 0.9909333333333333 for n=11\n",
            "Random forest has accuracy of: 0.9890666666666666 for n=12\n",
            "Random forest has accuracy of: 0.994 for n=13\n",
            "Random forest has accuracy of: 0.9912 for n=14\n",
            "Random forest has accuracy of: 0.9945333333333334 for n=15\n",
            "Random forest has accuracy of: 0.9924 for n=16\n",
            "Random forest has accuracy of: 0.9956 for n=17\n",
            "Random forest has accuracy of: 0.9944 for n=18\n",
            "Random forest has accuracy of: 0.9965333333333334 for n=19\n",
            "UNBalanced: logistic regression has accuracy of: 0.7950666666666667\n",
            "Balanced: logistic regression has accuracy of: 0.6968\n",
            "UNBalanced: Random forest has accuracy of: 0.9906666666666667\n",
            "Balanced: Random forest has accuracy of: 0.9909333333333333\n"
          ]
        }
      ]
    },
    {
      "cell_type": "markdown",
      "source": [
        "##Recommendation\n",
        "* Random forest with n estimator of 11 gives a very high predicting accuracy and it is not computationary expensive,\n",
        "* Having weighted classes does not improve the model accuracy"
      ],
      "metadata": {
        "id": "v7RfIPLxqwhs"
      }
    }
  ]
}